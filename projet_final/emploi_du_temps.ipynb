{
 "cells": [
  {
   "cell_type": "markdown",
   "metadata": {},
   "source": [
    "importation des données\n",
    "recherche des signification des attributs\n",
    "debut du nettoyage\n",
    "\n",
    "--- (30/01) ---\n",
    "\n",
    "decouverte des données:\n",
    "stats sur un peu tout \n",
    "plot data on map \n",
    "\n",
    "--- (10/02) ---\n",
    "\n",
    "ml:\n",
    "regression & co sur les données pour essayer de predire : \n",
    "date\n",
    "location\n",
    "type\n",
    "\n",
    "--- (20/02) ---\n",
    "\n",
    "recherche de 'crimes' qui peuvent etre relié\n",
    "autres prediction\n"
   ]
  },
  {
   "cell_type": "code",
   "execution_count": null,
   "metadata": {
    "collapsed": true
   },
   "outputs": [],
   "source": []
  }
 ],
 "metadata": {
  "kernelspec": {
   "display_name": "Python [conda root]",
   "language": "python",
   "name": "conda-root-py"
  },
  "language_info": {
   "codemirror_mode": {
    "name": "ipython",
    "version": 3
   },
   "file_extension": ".py",
   "mimetype": "text/x-python",
   "name": "python",
   "nbconvert_exporter": "python",
   "pygments_lexer": "ipython3",
   "version": "3.5.2"
  }
 },
 "nbformat": 4,
 "nbformat_minor": 1
}
