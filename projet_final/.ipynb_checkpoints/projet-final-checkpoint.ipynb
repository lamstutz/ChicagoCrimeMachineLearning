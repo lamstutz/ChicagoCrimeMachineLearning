{
 "cells": [
  {
   "cell_type": "markdown",
   "metadata": {},
   "source": [
    "# PROJET FINAL"
   ]
  },
  {
   "cell_type": "markdown",
   "metadata": {},
   "source": [
    "la ville de chicago à publié un dataset avec les crimes qui se sont passés dans sa ville depuis 2001 :\n",
    "https://data.cityofchicago.org/Public-Safety/Crimes-2001-to-present/ijzp-q8t2"
   ]
  },
  {
   "cell_type": "markdown",
   "metadata": {},
   "source": [
    "This dataset reflects reported incidents of crime (with the exception of murders where data exists for each victim) that occurred in the City of Chicago from 2001 to present, minus the most recent seven days. Data is extracted from the Chicago Police Department's CLEAR (Citizen Law Enforcement Analysis and Reporting) system. In order to protect the privacy of crime victims, addresses are shown at the block level only and specific locations are not identified."
   ]
  },
  {
   "cell_type": "markdown",
   "metadata": {},
   "source": [
    "le dataset comporte plus de 6 000 000 d'entrées et sont representées par une vingtaine d'atributs\n",
    "\n",
    "\n",
    "je voudrais realiser des statistiques pour la decouverte des données.\n",
    "puis predire les lieux de crimes, et le type de crimes.\n",
    "\n",
    "plus precisement , creer une map des quartiers a risque pour une date donnée dans le present et le futur\n",
    "et predire le type de crime en fonction de la date et du lieux du crime ou l'heure du crime en fonction du lieux et type de crime"
   ]
  },
  {
   "cell_type": "markdown",
   "metadata": {},
   "source": [
    "# importation des données"
   ]
  },
  {
   "cell_type": "code",
   "execution_count": 1,
   "metadata": {
    "collapsed": true
   },
   "outputs": [],
   "source": [
    "# importation des librairies panda numpy et pyplot\n",
    "import pandas as pd\n",
    "import numpy as np\n",
    "import matplotlib.pyplot as plt\n",
    "import math\n",
    "import pylab as plb\n",
    "from PIL import Image\n",
    "from sklearn import linear_model\n",
    "import requests\n",
    "from sklearn import preprocessing\n",
    "\n",
    "# ouverture du du datafram train.csv (with pandas) -> dfTrain\n",
    "dfAll = pd.read_csv('Crimes_-_2001_to_present.csv',header=0)"
   ]
  },
  {
   "cell_type": "code",
   "execution_count": 2,
   "metadata": {
    "collapsed": false
   },
   "outputs": [],
   "source": [
    "#info sur les données\n",
    "#dfAll[dfAll['IUCR'] == '1050']"
   ]
  },
  {
   "cell_type": "code",
   "execution_count": 3,
   "metadata": {
    "collapsed": false
   },
   "outputs": [
    {
     "name": "stdout",
     "output_type": "stream",
     "text": [
      "<class 'pandas.core.frame.DataFrame'>\n",
      "RangeIndex: 5000000 entries, 0 to 4999999\n",
      "Data columns (total 22 columns):\n",
      "ID                      int64\n",
      "Case Number             object\n",
      "Date                    object\n",
      "Block                   object\n",
      "IUCR                    object\n",
      "Primary Type            object\n",
      "Description             object\n",
      "Location Description    object\n",
      "Arrest                  bool\n",
      "Domestic                bool\n",
      "Beat                    int64\n",
      "District                float64\n",
      "Ward                    float64\n",
      "Community Area          float64\n",
      "FBI Code                object\n",
      "X Coordinate            float64\n",
      "Y Coordinate            float64\n",
      "Year                    int64\n",
      "Updated On              object\n",
      "Latitude                float64\n",
      "Longitude               float64\n",
      "Location                object\n",
      "dtypes: bool(2), float64(7), int64(3), object(10)\n",
      "memory usage: 772.5+ MB\n"
     ]
    }
   ],
   "source": [
    "from numpy.random import shuffle\n",
    "import sklearn.utils\n",
    "dfAll = sklearn.utils.shuffle(dfAll)\n",
    "dfAll = dfAll.reset_index(drop=True)\n",
    "dfTrain = dfAll[:-1252157]\n",
    "dfTest =dfAll[-1252157:]\n",
    "\n",
    "del dfAll\n",
    "del dfTest\n",
    "\n",
    "dfTrain.info()"
   ]
  },
  {
   "cell_type": "markdown",
   "metadata": {
    "collapsed": true
   },
   "source": [
    "+ ID : identifiant unique\n",
    "\n",
    "+ Case number : The Chicago Police Department RD Number (Records Division Number), which is unique to the incident.\n",
    "\n",
    "+ Date : Date when the incident occurred. this is sometimes a best estimate.\n",
    "\n",
    "+ Block : The partially redacted address where the incident occurred, placing it on the same block as the actual address.\n",
    "\n",
    "+ Primary Type : The primary description of the IUCR code.\n",
    "\n",
    "+ IUCR : The Illinois Unifrom Crime Reporting code. This is directly linked to the Primary Type and Description. See the list of IUCR codes at https://data.cityofchicago.org/d/c7ck-438e.\n",
    "\n",
    "+ Description : The secondary description of the IUCR code, a subcategory of the primary description.\n",
    "\n",
    "+ Location Description : Description of the location where the incident occurred.\n",
    "\n",
    "+ Arrest : Indicates whether an arrest was made.\n",
    "\n",
    "+ Domestic : Indicates whether the incident was domestic-related as defined by the Illinois Domestic Violence Act.\n",
    "\n",
    "+ Beat : Indicates the beat where the incident occurred. A beat is the smallest police geographic area – each beat has a dedicated police beat car. Three to five beats make up a police sector, and three sectors make up a police district. The Chicago Police Department has 22 police districts. See the beats at https://data.cityofchicago.org/d/aerh-rz74.\n",
    "\n",
    "+ District : Indicates the police district where the incident occurred. See the districts at https://data.cityofchicago.org/d/fthy-xz3r.\n",
    "\n",
    "+ Ward : The ward (City Council district) where the incident occurred. See the wards at https://data.cityofchicago.org/d/sp34-6z76.\n",
    "\n",
    "+ Community Area : Indicates the community area where the incident occurred. Chicago has 77 community areas. See the community areas at https://data.cityofchicago.org/d/cauq-8yn6.\n",
    "\n",
    "+ FBI Code : Indicates the crime classification as outlined in the FBI's National Incident-Based Reporting System (NIBRS). See the Chicago Police Department listing of these classifications at http://gis.chicagopolice.org/clearmap_crime_sums/crime_types.html.\n",
    "\n",
    "+ X Coordinate : The x coordinate of the location where the incident occurred in State Plane Illinois East NAD 1983 projection. This location is shifted from the actual location for partial redaction but falls on the same block.\n",
    "\n",
    "+ Y Coordinate : The y coordinate of the location where the incident occurred in State Plane Illinois East NAD 1983 projection. This location is shifted from the actual location for partial redaction but falls on the same block.\n",
    "\n",
    "+ Year : Year the incident occurred.\n",
    "\n",
    "+ Updated On : Date and time the record was last updated.\n",
    "\n",
    "+ Latitude : The latitude of the location where the incident occurred. This location is shifted from the actual location for partial redaction but falls on the same block.\n",
    "\n",
    "+ Longitude : The longitude of the location where the incident occurred. This location is shifted from the actual location for partial redaction but falls on the same block.\n",
    "\n",
    "+ Location : The location where the incident occurred in a format that allows for creation of maps and other geographic operations on this data portal. This location is shifted from the actual location for partial redaction but falls on the same block.\n"
   ]
  },
  {
   "cell_type": "markdown",
   "metadata": {},
   "source": [
    "Case number\n",
    "X Coordinate\n",
    "Y Coordinate\n",
    "Updated On"
   ]
  },
  {
   "cell_type": "code",
   "execution_count": 4,
   "metadata": {
    "collapsed": false
   },
   "outputs": [
    {
     "name": "stderr",
     "output_type": "stream",
     "text": [
      "C:\\Program Files\\Anaconda3\\lib\\site-packages\\numpy\\lib\\function_base.py:3834: RuntimeWarning: Invalid value encountered in percentile\n",
      "  RuntimeWarning)\n"
     ]
    },
    {
     "data": {
      "text/html": [
       "<div>\n",
       "<table border=\"1\" class=\"dataframe\">\n",
       "  <thead>\n",
       "    <tr style=\"text-align: right;\">\n",
       "      <th></th>\n",
       "      <th>ID</th>\n",
       "      <th>Beat</th>\n",
       "      <th>District</th>\n",
       "      <th>Ward</th>\n",
       "      <th>Community Area</th>\n",
       "      <th>X Coordinate</th>\n",
       "      <th>Y Coordinate</th>\n",
       "      <th>Year</th>\n",
       "      <th>Latitude</th>\n",
       "      <th>Longitude</th>\n",
       "    </tr>\n",
       "  </thead>\n",
       "  <tbody>\n",
       "    <tr>\n",
       "      <th>count</th>\n",
       "      <td>1.000000e+04</td>\n",
       "      <td>10000.000000</td>\n",
       "      <td>10000.000000</td>\n",
       "      <td>9056.000000</td>\n",
       "      <td>9055.000000</td>\n",
       "      <td>9.850000e+03</td>\n",
       "      <td>9.850000e+03</td>\n",
       "      <td>10000.000000</td>\n",
       "      <td>9850.000000</td>\n",
       "      <td>9850.000000</td>\n",
       "    </tr>\n",
       "    <tr>\n",
       "      <th>mean</th>\n",
       "      <td>5.856553e+06</td>\n",
       "      <td>1182.328800</td>\n",
       "      <td>11.195800</td>\n",
       "      <td>22.541961</td>\n",
       "      <td>37.651022</td>\n",
       "      <td>1.164796e+06</td>\n",
       "      <td>1.885764e+06</td>\n",
       "      <td>2007.638100</td>\n",
       "      <td>41.842130</td>\n",
       "      <td>-87.670783</td>\n",
       "    </tr>\n",
       "    <tr>\n",
       "      <th>std</th>\n",
       "      <td>2.812922e+06</td>\n",
       "      <td>698.307536</td>\n",
       "      <td>6.877688</td>\n",
       "      <td>13.863833</td>\n",
       "      <td>21.568753</td>\n",
       "      <td>1.607096e+04</td>\n",
       "      <td>3.141723e+04</td>\n",
       "      <td>4.480372</td>\n",
       "      <td>0.086403</td>\n",
       "      <td>0.058480</td>\n",
       "    </tr>\n",
       "    <tr>\n",
       "      <th>min</th>\n",
       "      <td>6.790000e+02</td>\n",
       "      <td>111.000000</td>\n",
       "      <td>1.000000</td>\n",
       "      <td>1.000000</td>\n",
       "      <td>1.000000</td>\n",
       "      <td>1.099348e+06</td>\n",
       "      <td>1.813914e+06</td>\n",
       "      <td>2001.000000</td>\n",
       "      <td>41.644604</td>\n",
       "      <td>-87.910016</td>\n",
       "    </tr>\n",
       "    <tr>\n",
       "      <th>25%</th>\n",
       "      <td>3.296124e+06</td>\n",
       "      <td>621.000000</td>\n",
       "      <td>6.000000</td>\n",
       "      <td>NaN</td>\n",
       "      <td>NaN</td>\n",
       "      <td>NaN</td>\n",
       "      <td>NaN</td>\n",
       "      <td>2004.000000</td>\n",
       "      <td>NaN</td>\n",
       "      <td>NaN</td>\n",
       "    </tr>\n",
       "    <tr>\n",
       "      <th>50%</th>\n",
       "      <td>5.775807e+06</td>\n",
       "      <td>1033.000000</td>\n",
       "      <td>10.000000</td>\n",
       "      <td>NaN</td>\n",
       "      <td>NaN</td>\n",
       "      <td>NaN</td>\n",
       "      <td>NaN</td>\n",
       "      <td>2007.000000</td>\n",
       "      <td>NaN</td>\n",
       "      <td>NaN</td>\n",
       "    </tr>\n",
       "    <tr>\n",
       "      <th>75%</th>\n",
       "      <td>8.287815e+06</td>\n",
       "      <td>1723.000000</td>\n",
       "      <td>17.000000</td>\n",
       "      <td>NaN</td>\n",
       "      <td>NaN</td>\n",
       "      <td>NaN</td>\n",
       "      <td>NaN</td>\n",
       "      <td>2011.000000</td>\n",
       "      <td>NaN</td>\n",
       "      <td>NaN</td>\n",
       "    </tr>\n",
       "    <tr>\n",
       "      <th>max</th>\n",
       "      <td>1.082039e+07</td>\n",
       "      <td>2535.000000</td>\n",
       "      <td>31.000000</td>\n",
       "      <td>50.000000</td>\n",
       "      <td>77.000000</td>\n",
       "      <td>1.204793e+06</td>\n",
       "      <td>1.951492e+06</td>\n",
       "      <td>2017.000000</td>\n",
       "      <td>42.022525</td>\n",
       "      <td>-87.525805</td>\n",
       "    </tr>\n",
       "  </tbody>\n",
       "</table>\n",
       "</div>"
      ],
      "text/plain": [
       "                 ID          Beat      District         Ward  Community Area  \\\n",
       "count  1.000000e+04  10000.000000  10000.000000  9056.000000     9055.000000   \n",
       "mean   5.856553e+06   1182.328800     11.195800    22.541961       37.651022   \n",
       "std    2.812922e+06    698.307536      6.877688    13.863833       21.568753   \n",
       "min    6.790000e+02    111.000000      1.000000     1.000000        1.000000   \n",
       "25%    3.296124e+06    621.000000      6.000000          NaN             NaN   \n",
       "50%    5.775807e+06   1033.000000     10.000000          NaN             NaN   \n",
       "75%    8.287815e+06   1723.000000     17.000000          NaN             NaN   \n",
       "max    1.082039e+07   2535.000000     31.000000    50.000000       77.000000   \n",
       "\n",
       "       X Coordinate  Y Coordinate          Year     Latitude    Longitude  \n",
       "count  9.850000e+03  9.850000e+03  10000.000000  9850.000000  9850.000000  \n",
       "mean   1.164796e+06  1.885764e+06   2007.638100    41.842130   -87.670783  \n",
       "std    1.607096e+04  3.141723e+04      4.480372     0.086403     0.058480  \n",
       "min    1.099348e+06  1.813914e+06   2001.000000    41.644604   -87.910016  \n",
       "25%             NaN           NaN   2004.000000          NaN          NaN  \n",
       "50%             NaN           NaN   2007.000000          NaN          NaN  \n",
       "75%             NaN           NaN   2011.000000          NaN          NaN  \n",
       "max    1.204793e+06  1.951492e+06   2017.000000    42.022525   -87.525805  "
      ]
     },
     "execution_count": 4,
     "metadata": {},
     "output_type": "execute_result"
    }
   ],
   "source": [
    "dfTrainLittle = pd.DataFrame(dfTrain[-10000:])\n",
    "del dfTrain\n",
    "#dfTrainLittle = dfTrain\n",
    "dfTrainLittle.describe()"
   ]
  },
  {
   "cell_type": "code",
   "execution_count": 5,
   "metadata": {
    "collapsed": false
   },
   "outputs": [
    {
     "name": "stdout",
     "output_type": "stream",
     "text": [
      "<class 'pandas.core.frame.DataFrame'>\n",
      "RangeIndex: 10000 entries, 4990000 to 4999999\n",
      "Data columns (total 22 columns):\n",
      "ID                      10000 non-null int64\n",
      "Case Number             10000 non-null object\n",
      "Date                    10000 non-null object\n",
      "Block                   10000 non-null object\n",
      "IUCR                    10000 non-null object\n",
      "Primary Type            10000 non-null object\n",
      "Description             10000 non-null object\n",
      "Location Description    9998 non-null object\n",
      "Arrest                  10000 non-null bool\n",
      "Domestic                10000 non-null bool\n",
      "Beat                    10000 non-null int64\n",
      "District                10000 non-null float64\n",
      "Ward                    9056 non-null float64\n",
      "Community Area          9055 non-null float64\n",
      "FBI Code                10000 non-null object\n",
      "X Coordinate            9850 non-null float64\n",
      "Y Coordinate            9850 non-null float64\n",
      "Year                    10000 non-null int64\n",
      "Updated On              10000 non-null object\n",
      "Latitude                9850 non-null float64\n",
      "Longitude               9850 non-null float64\n",
      "Location                9850 non-null object\n",
      "dtypes: bool(2), float64(7), int64(3), object(10)\n",
      "memory usage: 1.5+ MB\n"
     ]
    }
   ],
   "source": [
    "dfTrainLittle.info()"
   ]
  },
  {
   "cell_type": "markdown",
   "metadata": {},
   "source": [
    "# nettoyage des données"
   ]
  },
  {
   "cell_type": "code",
   "execution_count": 7,
   "metadata": {
    "collapsed": false
   },
   "outputs": [],
   "source": [
    "dfTrainLittle.drop('Case Number', axis=1, inplace=True)\n",
    "dfTrainLittle.drop('Updated On', axis=1, inplace=True)"
   ]
  },
  {
   "cell_type": "code",
   "execution_count": 8,
   "metadata": {
    "collapsed": false
   },
   "outputs": [
    {
     "data": {
      "text/plain": [
       "0"
      ]
     },
     "execution_count": 8,
     "metadata": {},
     "output_type": "execute_result"
    }
   ],
   "source": [
    "dfTrainLittle[pd.isnull(dfTrainLittle['Latitude']) & pd.notnull(dfTrainLittle['X Coordinate'])].size"
   ]
  },
  {
   "cell_type": "code",
   "execution_count": 9,
   "metadata": {
    "collapsed": true
   },
   "outputs": [],
   "source": [
    "dfTrainLittle.drop('X Coordinate', axis=1, inplace=True)\n",
    "dfTrainLittle.drop('Y Coordinate', axis=1, inplace=True)"
   ]
  },
  {
   "cell_type": "code",
   "execution_count": 10,
   "metadata": {
    "collapsed": false
   },
   "outputs": [
    {
     "data": {
      "text/plain": [
       "150"
      ]
     },
     "execution_count": 10,
     "metadata": {},
     "output_type": "execute_result"
    }
   ],
   "source": [
    "dfTrainLittle[pd.isnull(dfTrainLittle['Latitude']) & pd.notnull(dfTrainLittle['Block'])]['Block'].size"
   ]
  },
  {
   "cell_type": "code",
   "execution_count": 11,
   "metadata": {
    "collapsed": false
   },
   "outputs": [
    {
     "data": {
      "text/plain": [
       "150"
      ]
     },
     "execution_count": 11,
     "metadata": {},
     "output_type": "execute_result"
    }
   ],
   "source": [
    "dfTrainLittle[pd.isnull(dfTrainLittle['Latitude'])]['Block'].size"
   ]
  },
  {
   "cell_type": "code",
   "execution_count": 12,
   "metadata": {
    "collapsed": false
   },
   "outputs": [
    {
     "data": {
      "text/plain": [
       "0"
      ]
     },
     "execution_count": 12,
     "metadata": {},
     "output_type": "execute_result"
    }
   ],
   "source": [
    "dfTrainLittle[pd.isnull(dfTrainLittle['Block'])].size"
   ]
  },
  {
   "cell_type": "code",
   "execution_count": 13,
   "metadata": {
    "collapsed": false
   },
   "outputs": [
    {
     "data": {
      "text/plain": [
       "4990083                      038XX W PIPPIN ST\n",
       "4990207                      008XX N HOMAN AVE\n",
       "4990243                       059XX S GREEN ST\n",
       "4990257    060XX S DR MARTIN LUTHER KING JR DR\n",
       "4990261                        008XX W 86TH PL\n",
       "4990269                        065XX S KING DR\n",
       "4990281                      026XX W HIRSCH ST\n",
       "4990359                   056XX S ELIZABETH ST\n",
       "4990466                    045XX S DREXEL BLVD\n",
       "4990533                      037XX N RACINE AV\n",
       "4990548                        040XX W 57TH ST\n",
       "4990583                     046XX S HALSTED ST\n",
       "4990671                 017XX W WRIGHTWOOD AVE\n",
       "4990757                    085XX W RASCHER AVE\n",
       "4990805                  0000X E WASHINGTON ST\n",
       "4990819                   014XX N CAMPBELL AVE\n",
       "4990833                        007XX E 81ST ST\n",
       "4990875                    075XX N WESTERN AVE\n",
       "4990941                      029XX N MASON AVE\n",
       "4990957                     065XX S DREXEL AVE\n",
       "4991259                        0000X E OHIO ST\n",
       "4991351                   017XX W FULLERTON AV\n",
       "4991394                    002XX S WESTERN AVE\n",
       "4991511                        004XX W 27TH ST\n",
       "4991645                      066XX S DAMEN AVE\n",
       "4991662                        016XX W 95TH ST\n",
       "4991689                       050XX W DAKIN ST\n",
       "4991778                   005XX E MARQUETTE RD\n",
       "4991870                 031XX N CHRISTIANA AVE\n",
       "4991883                        0000X E OHIO ST\n",
       "                          ...                 \n",
       "4998572                  070XX S MAPLEWOOD AVE\n",
       "4998578                    027XX W BELMONT AVE\n",
       "4998669                        002XX W 72ND ST\n",
       "4998845                     064XX S DREXEL AVE\n",
       "4998886                         006XX W 111 ST\n",
       "4998889                       008XX E 103RD ST\n",
       "4998914                  024XX N LAKE SHORE DR\n",
       "4999082                        052XX S KING DR\n",
       "4999132                         057XX S MAY ST\n",
       "4999149                    031XX W FILLMORE ST\n",
       "4999152                006XX W WASHINGTON BLVD\n",
       "4999156                  058XX S PRINCETON AVE\n",
       "4999198                       014XX S CANAL ST\n",
       "4999219                         004XX W ELM ST\n",
       "4999240                 006XX N CHRISTIANA AVE\n",
       "4999261                         005XX E 105 ST\n",
       "4999351                     014XX N LINDER AVE\n",
       "4999379                      063XX S MORGAN ST\n",
       "4999548                        011XX W 87TH ST\n",
       "4999583                       053XX N CLARK ST\n",
       "4999677                    042XX N KENMORE AVE\n",
       "4999678                  066XX S GREENWOOD AVE\n",
       "4999687                    035XX N NATCHEZ AVE\n",
       "4999699                        026XX W 19TH ST\n",
       "4999701                    001XX S OAKLEY BLVD\n",
       "4999829                         009XX E 133 ST\n",
       "4999830                   104XX S MARYLAND AVE\n",
       "4999895                  010XX N FRANCISCO AVE\n",
       "4999933                      049XX N DAMEN AVE\n",
       "4999979                004XX E LOWER WACKER DR\n",
       "Name: Block, dtype: object"
      ]
     },
     "execution_count": 13,
     "metadata": {},
     "output_type": "execute_result"
    }
   ],
   "source": [
    "dfTrainLittle[pd.isnull(dfTrainLittle['Latitude'])]['Block']"
   ]
  },
  {
   "cell_type": "code",
   "execution_count": 14,
   "metadata": {
    "collapsed": true
   },
   "outputs": [],
   "source": [
    "dfTrainLittle.to_csv('ChicagoTrain.csv')"
   ]
  },
  {
   "cell_type": "code",
   "execution_count": 15,
   "metadata": {
    "collapsed": false
   },
   "outputs": [],
   "source": [
    "import geocoder"
   ]
  },
  {
   "cell_type": "code",
   "execution_count": 16,
   "metadata": {
    "collapsed": false,
    "scrolled": true
   },
   "outputs": [
    {
     "name": "stdout",
     "output_type": "stream",
     "text": [
      "150\n",
      "03849 W PIPPIN ST\n",
      "[41.7533576, -87.7202398]\n",
      "00849 N HOMAN AVE\n",
      "[41.8969655, -87.71146809999999]\n",
      "05949 S GREEN ST\n",
      "[41.7856339, -87.64613659999999]\n",
      "06049 S DR MARTIN LUTHER KING JR DR\n",
      "[41.784309, -87.6157108]\n",
      "00849 W 86TH PL\n",
      "[41.73695499999999, -87.6454816]\n",
      "06549 S KING DR\n",
      "[41.7751276, -87.61551949999999]\n",
      "02649 W HIRSCH ST\n",
      "[41.90660270000001, -87.6939653]\n",
      "05649 S ELIZABETH ST\n",
      "[41.7909031, -87.6559922]\n",
      "04549 S DREXEL BLVD\n",
      "[41.8116147, -87.60396850000001]\n",
      "03749 N RACINE AV\n",
      "[41.95041639999999, -87.6592421]\n",
      "04049 W 57TH ST\n",
      "[41.7893488, -87.72492869999999]\n",
      "04649 S HALSTED ST\n",
      "[41.8091997, -87.64552669999999]\n",
      "01749 W WRIGHTWOOD AVE\n",
      "[41.928725, -87.6718348]\n",
      "08549 W RASCHER AVE\n",
      "[41.9783259, -87.841141]\n",
      "0000X E WASHINGTON ST\n",
      "[41.8832307, -87.62784110000001]\n",
      "01449 N CAMPBELL AVE\n",
      "[41.908034, -87.6896048]\n",
      "00749 E 81ST ST\n",
      "[41.7475594, -87.60589209999999]\n",
      "07549 N WESTERN AVE\n",
      "[42.0188207, -87.69012699999999]\n",
      "02949 N MASON AVE\n",
      "[41.9344931, -87.7748446]\n",
      "06549 S DREXEL AVE\n",
      "[41.7753683, -87.6033755]\n",
      "0000X E OHIO ST\n",
      "[41.8924843, -87.6280776]\n",
      "01749 W FULLERTON AV\n",
      "[41.9250912, -87.67177819999999]\n",
      "00249 S WESTERN AVE\n",
      "[41.877913, -87.6862697]\n",
      "00449 W 27TH ST\n",
      "[41.84451929999999, -87.6386095]\n",
      "06649 S DAMEN AVE\n",
      "[41.7725524, -87.67372019999999]\n",
      "01649 W 95TH ST\n",
      "[41.7211357, -87.66420649999999]\n",
      "05049 W DAKIN ST\n",
      "[41.9523917, -87.7541866]\n",
      "00549 E MARQUETTE RD\n",
      "[41.77484339999999, -87.6115722]\n",
      "03149 N CHRISTIANA AVE\n",
      "[41.9389075, -87.71124789999999]\n",
      "0000X E OHIO ST\n",
      "[41.8924843, -87.6280776]\n",
      "02549 W 66TH ST\n",
      "[41.7736064, -87.6879981]\n",
      "02149 S HOMAN AVE\n",
      "[41.8522579, -87.7101151]\n",
      "00349 E 57TH ST\n",
      "[41.7911363, -87.61718350000001]\n",
      "04949 N AUSTIN AVE\n",
      "[41.9717865, -87.7782503]\n",
      "05749 S KING DR\n",
      "[41.7911469, -87.6158846]\n",
      "02849 W PALMER ST\n",
      "[41.921663, -87.6992219]\n",
      "08349 S MARQUETTE AVE\n",
      "[41.7431468, -87.55855629999999]\n",
      "07549 S EGGLESTON AVE\n",
      "[41.75685120000001, -87.63566589999999]\n",
      "00349 N PEORIA ST\n",
      "[41.8881266, -87.64986239999999]\n",
      "02849 W 25TH PL\n",
      "[41.8455414, -87.6971872]\n",
      "00149 W 109 ST\n",
      "[41.6961721, -87.6276793]\n",
      "03649 W 115 ST\n",
      "[41.6840795, -87.71252659999999]\n",
      "05449 N SHERIDAN RD\n",
      "[41.9812596, -87.655137]\n",
      "00149 N PARKSIDE AVE\n",
      "[41.8836625, -87.7666356]\n",
      "05049 S LAKE SHORE DR SB\n",
      "[41.866261, -87.6169805]\n",
      "07049 S PULASKI RD\n",
      "[41.7637808, -87.72223059999999]\n",
      "01849 N SHEFFIELD AV\n",
      "[41.915182, -87.6532673]\n",
      "04849 N AUSTIN AVE\n",
      "[41.9690559, -87.7782967]\n",
      "05049 S ARCHER AVE\n",
      "[41.8012567, -87.7262002]\n",
      "08149 S VERNON AVE\n",
      "[41.746032, -87.61357199999999]\n",
      "04249 S TALMAN AVE\n",
      "[41.8162975, -87.6907677]\n",
      "00849 E 90TH ST\n",
      "[41.7311996, -87.6027032]\n",
      "12649 S HALSTED ST\n",
      "[41.6636002, -87.6413618]\n",
      "01549 W WASHBURNE AVE\n",
      "[41.8659876, -87.66589859999999]\n",
      "02849 W BELMONT AVE\n",
      "[41.9391676, -87.69973900000001]\n",
      "01749 S NEWBERRY AVE\n",
      "[41.8582664, -87.647622]\n",
      "00249 N LAMON AVE\n",
      "[41.88537470000001, -87.7478952]\n",
      "07649 S UNION AVE\n",
      "[41.75466530000001, -87.64169389999999]\n",
      "00549 W HARRISON ST\n",
      "[41.8743954, -87.6413836]\n",
      "02849 S DR MARTIN LUTHER KING JR DR\n",
      "[41.8426014, -87.6172362]\n",
      "02849 N MOZART ST\n",
      "[41.9326725, -87.69886780000002]\n",
      "00549 N MILWAUKEE AVE\n",
      "[41.8919625, -87.64878499999999]\n",
      "05449 W THOMAS ST\n",
      "[41.9003518, -87.7627699]\n",
      "0000X W B9 ST\n",
      "[]\n",
      "00749 W 71ST ST\n",
      "[41.7652093, -87.6431727]\n",
      "07949 S HALSTED ST\n",
      "[41.7491747, -87.64374959999999]\n",
      "00449 W OAK ST\n",
      "[41.9004461, -87.6405016]\n",
      "02349 S STATE ST\n",
      "[41.8495972, -87.62701229999999]\n",
      "05849 N MERRIMAC AVE\n",
      "[41.9879713, -87.7837035]\n",
      "06149 S KING DR\n",
      "[41.7824844, -87.61568109999999]\n",
      "00549 E 105 ST\n",
      "[41.70353, -87.60931219999999]\n",
      "02849 W 40TH PL\n",
      "[41.8200657, -87.69658199999999]\n",
      "08149 S DOBSON AVE\n",
      "[41.7469062, -87.5990123]\n",
      "00649 N LAKE SHORE DR SB\n",
      "[]\n",
      "0000X E CHICAGO AVE\n",
      "[41.8966918, -87.6281916]\n",
      "02849 S HOMAN AVE\n",
      "[41.8393909, -87.7097515]\n",
      "03149 S CANAL ST\n",
      "[41.8367389, -87.6377095]\n",
      "03649 S MICHIGAN AVE\n",
      "[41.8281544, -87.6231859]\n",
      "05849 S ELIZABETH ST\n",
      "[41.78735349999999, -87.65588629999999]\n",
      "07249 N CLARK ST\n",
      "[42.0132137, -87.6747232]\n",
      "04149 S MICHIGAN AVE\n",
      "[41.8187874, -87.6230885]\n",
      "02049 W NORTH AVE\n",
      "[41.9104343, -87.67951149999999]\n",
      "00249 N CICERO AVE\n",
      "[41.8853219, -87.7454461]\n",
      "01649 S KILDARE AVE\n",
      "[41.8583082, -87.73226880000001]\n",
      "00449 E 59 ST\n",
      "[41.7875187, -87.6158095]\n",
      "03949 N PULASKI RD\n",
      "[41.95324220000001, -87.72761179999999]\n",
      "04649 S KARLOV AVE\n",
      "[41.8083564, -87.7260427]\n",
      "02249 W WABANSIA AVE\n",
      "[41.9126112, -87.68435600000001]\n",
      "01549 W 73RD ST\n",
      "[41.76127220000001, -87.6630346]\n",
      "03649 W POLK ST\n",
      "[41.8708292, -87.7173522]\n",
      "10849 S WENTWORTH AVE\n",
      "[41.6968339, -87.62801429999999]\n",
      "08049 S INGLESIDE AVE\n",
      "[41.7480806, -87.6014611]\n",
      "10349 S COTTAGE GROVE AVE\n",
      "[41.70595, -87.60646000000001]\n",
      "01849 W MONTROSE AVE\n",
      "[41.9614918, -87.675794]\n",
      "07149 S CHAMPLAIN AVE\n",
      "[41.7643914, -87.6091931]\n",
      "00849 E 103 ST\n",
      "[41.7075129, -87.60258789999999]\n",
      "13749 S BRAINARD AVE\n",
      "[41.6453394, -87.5418873]\n",
      "01949 S WELLS ST\n",
      "[41.8557064, -87.6327673]\n",
      "05149 S WESTERN BLVD\n",
      "[41.7998672, -87.6836313]\n",
      "06149 S MC VICKER AVE\n",
      "[41.7800489, -87.7727943]\n",
      "01449 N BOSWORTH AVE\n",
      "[41.9084353, -87.666412]\n",
      "05249 S DAN RYAN LOCAL OB\n",
      "[41.8830278, -87.624905]\n",
      "06049 S PEORIA ST\n",
      "[41.7836894, -87.6472764]\n",
      "02449 W LEXINGTON ST\n",
      "[41.8720458, -87.68811389999999]\n",
      "10349 S DOTY AVE E\n",
      "[41.6992492, -87.59370849999999]\n",
      "01449 N LUIS MUNOZ MARIN DR\n",
      "[41.9017857, -87.7057748]\n",
      "00749 E 131ST ST\n",
      "[41.657019, -87.6030481]\n",
      "09349 S PERRY AVE\n",
      "[41.7239217, -87.6262972]\n",
      "09149 S CREGIER AVE\n",
      "[41.7282349, -87.5803575]\n",
      "01349 W 123 ST\n",
      "[41.6703287, -87.65506049999999]\n",
      "03149 N BERNARD ST\n",
      "[41.93874659999999, -87.7136924]\n",
      "05349 N MC VICKER AVE\n",
      "[41.978922, -87.779134]\n",
      "11549 S MARSHFIELD AVE\n",
      "[41.6836939, -87.6626743]\n",
      "00249 W SOUTH WATER MARKET ST\n",
      "[41.8620764, -87.65415019999999]\n",
      "04749 S HERMITAGE AVE\n",
      "[41.807087, -87.6685818]\n",
      "00649 N LONG AVE\n",
      "[41.892564, -87.7605518]\n",
      "01649 N LAKE SHORE DR\n",
      "[41.9110887, -87.62625700000001]\n",
      "04649 S FAIRFIELD AVE\n",
      "[41.8087303, -87.6929842]\n",
      "01349 W BRYN MAWR AVE\n",
      "[41.9835514, -87.66407459999999]\n",
      "11349 S HOMAN AVE\n",
      "[41.6868537, -87.70551619999999]\n",
      "07049 S MAPLEWOOD AVE\n",
      "[41.7649941, -87.68691799999999]\n",
      "02749 W BELMONT AVE\n",
      "[41.9394034, -87.6972104]\n",
      "00249 W 72ND ST\n",
      "[41.7635877, -87.6303204]\n",
      "06449 S DREXEL AVE\n",
      "[41.7771938, -87.60281499999999]\n",
      "00649 W 111 ST\n",
      "[41.692389, -87.63949939999999]\n",
      "00849 E 103RD ST\n",
      "[41.7075129, -87.60258789999999]\n",
      "02449 N LAKE SHORE DR\n",
      "[41.9280026, -87.6317461]\n",
      "05249 S KING DR\n",
      "[41.7994002, -87.6160869]\n",
      "05749 S MAY ST\n",
      "[41.7891205, -87.6532805]\n",
      "03149 W FILLMORE ST\n",
      "[41.86823, -87.70482]\n",
      "00649 W WASHINGTON BLVD\n",
      "[41.8831688, -87.6444923]\n",
      "05849 S PRINCETON AVE\n",
      "[41.7876533, -87.63255509999999]\n",
      "01449 S CANAL ST\n",
      "[41.8621947, -87.63907789999999]\n",
      "00449 W ELM ST\n",
      "[41.9026973, -87.64013779999999]\n",
      "00649 N CHRISTIANA AVE\n",
      "[41.8933452, -87.7101359]\n",
      "00549 E 105 ST\n",
      "[41.70353, -87.60931219999999]\n",
      "01449 N LINDER AVE\n",
      "[41.9072237, -87.76308619999999]\n",
      "06349 S MORGAN ST\n",
      "[41.7782018, -87.64959449999999]\n",
      "01149 W 87TH ST\n",
      "[41.7359387, -87.6528529]\n",
      "05349 N CLARK ST\n",
      "[41.9795113, -87.66804739999999]\n",
      "04249 N KENMORE AVE\n",
      "[41.9598433, -87.6562653]\n",
      "06649 S GREENWOOD AVE\n",
      "[41.7736334, -87.5997007]\n",
      "03549 N NATCHEZ AVE\n",
      "[41.9452423, -87.788755]\n",
      "02649 W 19TH ST\n",
      "[41.85560479999999, -87.69195669999999]\n",
      "00149 S OAKLEY BLVD\n",
      "[41.8790904, -87.68389599999999]\n",
      "00949 E 133 ST\n",
      "[41.6537914, -87.5980596]\n",
      "10449 S MARYLAND AVE\n",
      "[41.7039345, -87.60271209999999]\n",
      "01049 N FRANCISCO AVE\n",
      "[41.900655, -87.69875499999999]\n",
      "04949 N DAMEN AVE\n",
      "[41.9720198, -87.6792708]\n",
      "00449 E LOWER WACKER DR\n",
      "[41.8875163, -87.6171253]\n",
      "2\n"
     ]
    }
   ],
   "source": [
    "\n",
    "def getLatLngWithBlock(block):\n",
    "    block = block + ''\n",
    "    block = block.replace(\"XX\", \"49\", 1)\n",
    "    g = geocoder.google(block+', CHICAGO')\n",
    "    print(block)\n",
    "    return g.latlng\n",
    "\n",
    "print(dfTrainLittle[pd.isnull(dfTrainLittle['Latitude'])]['Block'].size)\n",
    "\n",
    "for index, row in dfTrainLittle[pd.isnull(dfTrainLittle['Latitude'])].iterrows():\n",
    "    latlng = getLatLngWithBlock(row['Block'])\n",
    "    print(latlng)\n",
    "    if len(latlng) > 0 :\n",
    "        dfTrainLittle.set_value(index,'Latitude',latlng[0])\n",
    "        dfTrainLittle.set_value(index,'Longitude',latlng[1])\n",
    "    \n",
    "print(dfTrainLittle[pd.isnull(dfTrainLittle['Latitude'])]['Block'].size)"
   ]
  },
  {
   "cell_type": "code",
   "execution_count": 17,
   "metadata": {
    "collapsed": true
   },
   "outputs": [],
   "source": [
    "dfTrainLittle.to_csv('ChicagoTrain.csv')"
   ]
  },
  {
   "cell_type": "code",
   "execution_count": 18,
   "metadata": {
    "collapsed": false
   },
   "outputs": [
    {
     "data": {
      "text/plain": [
       "4994989    41.0\n",
       "4995313    42.0\n",
       "Name: Ward, dtype: float64"
      ]
     },
     "execution_count": 18,
     "metadata": {},
     "output_type": "execute_result"
    }
   ],
   "source": [
    "dfTrainLittle[pd.isnull(dfTrainLittle['Latitude'])]['Ward']"
   ]
  },
  {
   "cell_type": "code",
   "execution_count": 19,
   "metadata": {
    "collapsed": false
   },
   "outputs": [
    {
     "data": {
      "text/plain": [
       "4994989    16.0\n",
       "4995313    18.0\n",
       "Name: District, dtype: float64"
      ]
     },
     "execution_count": 19,
     "metadata": {},
     "output_type": "execute_result"
    }
   ],
   "source": [
    "dfTrainLittle[pd.isnull(dfTrainLittle['Latitude'])]['District']"
   ]
  },
  {
   "cell_type": "code",
   "execution_count": 20,
   "metadata": {
    "collapsed": false
   },
   "outputs": [
    {
     "data": {
      "text/plain": [
       "4994989    76.0\n",
       "4995313     8.0\n",
       "Name: Community Area, dtype: float64"
      ]
     },
     "execution_count": 20,
     "metadata": {},
     "output_type": "execute_result"
    }
   ],
   "source": [
    "dfTrainLittle[pd.isnull(dfTrainLittle['Latitude'])]['Community Area']"
   ]
  },
  {
   "cell_type": "code",
   "execution_count": 21,
   "metadata": {
    "collapsed": false
   },
   "outputs": [
    {
     "name": "stdout",
     "output_type": "stream",
     "text": [
      "16992\n",
      "0\n",
      "17010\n"
     ]
    }
   ],
   "source": [
    "print(dfTrainLittle[pd.isnull(dfTrainLittle['Ward'])].size)\n",
    "print(dfTrainLittle[pd.isnull(dfTrainLittle['District'])].size)\n",
    "print(dfTrainLittle[pd.isnull(dfTrainLittle['Community Area'])].size)"
   ]
  },
  {
   "cell_type": "code",
   "execution_count": 22,
   "metadata": {
    "collapsed": false,
    "scrolled": false
   },
   "outputs": [],
   "source": [
    "dfTrainLittle['Date']=pd.to_datetime(dfTrainLittle[\"Date\"])\n",
    "\n",
    "dfTrainLittle['Year']=dfTrainLittle['Date'].dt.year\n",
    "dfTrainLittle['Month']=dfTrainLittle['Date'].dt.month\n",
    "dfTrainLittle['Day']=dfTrainLittle['Date'].dt.day\n",
    "dfTrainLittle['Hour']=dfTrainLittle['Date'].dt.hour\n",
    "#dfTrainLittle['Year'].describe()\n",
    "\n",
    "dfTrainLittle = dfTrainLittle.reset_index()\n",
    "#dfTrainLittle[dfTrainLittle['Latitude'] == 0.059100]\n",
    "\n"
   ]
  },
  {
   "cell_type": "code",
   "execution_count": 23,
   "metadata": {
    "collapsed": true
   },
   "outputs": [],
   "source": [
    "dfTrainLittle.to_csv('ChicagoTrain.csv')"
   ]
  },
  {
   "cell_type": "markdown",
   "metadata": {},
   "source": [
    "# mapping"
   ]
  },
  {
   "cell_type": "code",
   "execution_count": 24,
   "metadata": {
    "collapsed": false
   },
   "outputs": [],
   "source": [
    "import gmplot\n",
    "\n",
    "gmap = gmplot.GoogleMapPlotter(41.862077, -87.701201, 12)\n",
    "latitudes = dfTrainLittle[pd.notnull(dfTrainLittle['Latitude'])]['Latitude'].values\n",
    "longitudes = dfTrainLittle[pd.notnull(dfTrainLittle['Longitude'])]['Longitude'].values\n",
    "#gmap.plot(latitudes, longitudes, 'cornflowerblue', edge_width=5)\n",
    "#gmap.scatter(latitudes, longitudes, '#3B0B39', size=5, marker=False)\n",
    "#gmap.scatter(latitudes, longitudes, 'k', marker=True)\n",
    "gmap.heatmap(latitudes, longitudes)\n",
    "gmap.draw(\"mymap.html\")\n",
    "#dfTrainLittle['Latitude']"
   ]
  }
 ],
 "metadata": {
  "anaconda-cloud": {},
  "kernelspec": {
   "display_name": "Python [conda root]",
   "language": "python",
   "name": "conda-root-py"
  },
  "language_info": {
   "codemirror_mode": {
    "name": "ipython",
    "version": 3
   },
   "file_extension": ".py",
   "mimetype": "text/x-python",
   "name": "python",
   "nbconvert_exporter": "python",
   "pygments_lexer": "ipython3",
   "version": "3.5.2"
  }
 },
 "nbformat": 4,
 "nbformat_minor": 1
}
