{
 "cells": [
  {
   "cell_type": "markdown",
   "metadata": {},
   "source": [
    "# Welcome To CHICAGO"
   ]
  },
  {
   "cell_type": "code",
   "execution_count": 14,
   "metadata": {
    "collapsed": true
   },
   "outputs": [],
   "source": [
    "# importation des librairies panda numpy et pyplot\n",
    "import pandas as pd\n",
    "import numpy as np\n",
    "import matplotlib.pyplot as plt\n",
    "import math\n",
    "\n",
    "import pylab as plb\n",
    "import sklearn\n",
    "from PIL import Image\n",
    "from sklearn import linear_model\n",
    "import requests\n",
    "from sklearn import preprocessing\n",
    "import gmplot"
   ]
  },
  {
   "cell_type": "code",
   "execution_count": 15,
   "metadata": {
    "collapsed": false
   },
   "outputs": [],
   "source": [
    "# ouverture du du datafram train.csv (with pandas) -> dfTrain\n",
    "dfTrain = pd.read_csv('ChicagoTrain.csv',header=0)"
   ]
  },
  {
   "cell_type": "code",
   "execution_count": 16,
   "metadata": {
    "collapsed": false,
    "scrolled": false
   },
   "outputs": [
    {
     "name": "stdout",
     "output_type": "stream",
     "text": [
      "<class 'pandas.core.frame.DataFrame'>\n",
      "RangeIndex: 4920223 entries, 0 to 4920222\n",
      "Data columns (total 10 columns):\n",
      "Unnamed: 0      int64\n",
      "Primary Type    int64\n",
      "Arrest          bool\n",
      "Domestic        bool\n",
      "Year            int64\n",
      "Latitude        float64\n",
      "Longitude       float64\n",
      "Month           int64\n",
      "Day             int64\n",
      "Hour            int64\n",
      "dtypes: bool(2), float64(2), int64(6)\n",
      "memory usage: 309.7 MB\n"
     ]
    }
   ],
   "source": [
    "dfTrain.info()"
   ]
  },
  {
   "cell_type": "code",
   "execution_count": 17,
   "metadata": {
    "collapsed": true
   },
   "outputs": [],
   "source": [
    "dfTrain.drop('Unnamed: 0', axis=1, inplace=True)"
   ]
  },
  {
   "cell_type": "code",
   "execution_count": 18,
   "metadata": {
    "collapsed": false,
    "scrolled": true
   },
   "outputs": [
    {
     "data": {
      "text/html": [
       "<div>\n",
       "<table border=\"1\" class=\"dataframe\">\n",
       "  <thead>\n",
       "    <tr style=\"text-align: right;\">\n",
       "      <th></th>\n",
       "      <th>Primary Type</th>\n",
       "      <th>Year</th>\n",
       "      <th>Latitude</th>\n",
       "      <th>Longitude</th>\n",
       "      <th>Month</th>\n",
       "      <th>Day</th>\n",
       "      <th>Hour</th>\n",
       "    </tr>\n",
       "  </thead>\n",
       "  <tbody>\n",
       "    <tr>\n",
       "      <th>count</th>\n",
       "      <td>4.920223e+06</td>\n",
       "      <td>4.920223e+06</td>\n",
       "      <td>4.920223e+06</td>\n",
       "      <td>4.920223e+06</td>\n",
       "      <td>4.920223e+06</td>\n",
       "      <td>4.920223e+06</td>\n",
       "      <td>4.920223e+06</td>\n",
       "    </tr>\n",
       "    <tr>\n",
       "      <th>mean</th>\n",
       "      <td>6.058651e+00</td>\n",
       "      <td>2.007575e+03</td>\n",
       "      <td>4.184176e+01</td>\n",
       "      <td>-8.767183e+01</td>\n",
       "      <td>6.562743e+00</td>\n",
       "      <td>1.565272e+01</td>\n",
       "      <td>1.322758e+01</td>\n",
       "    </tr>\n",
       "    <tr>\n",
       "      <th>std</th>\n",
       "      <td>3.959265e+00</td>\n",
       "      <td>4.438774e+00</td>\n",
       "      <td>9.925630e-02</td>\n",
       "      <td>1.510193e-01</td>\n",
       "      <td>3.336879e+00</td>\n",
       "      <td>8.822629e+00</td>\n",
       "      <td>6.751369e+00</td>\n",
       "    </tr>\n",
       "    <tr>\n",
       "      <th>min</th>\n",
       "      <td>1.000000e+00</td>\n",
       "      <td>2.001000e+03</td>\n",
       "      <td>0.000000e+00</td>\n",
       "      <td>-9.168657e+01</td>\n",
       "      <td>1.000000e+00</td>\n",
       "      <td>1.000000e+00</td>\n",
       "      <td>0.000000e+00</td>\n",
       "    </tr>\n",
       "    <tr>\n",
       "      <th>25%</th>\n",
       "      <td>4.000000e+00</td>\n",
       "      <td>2.004000e+03</td>\n",
       "      <td>4.176888e+01</td>\n",
       "      <td>-8.771396e+01</td>\n",
       "      <td>4.000000e+00</td>\n",
       "      <td>8.000000e+00</td>\n",
       "      <td>9.000000e+00</td>\n",
       "    </tr>\n",
       "    <tr>\n",
       "      <th>50%</th>\n",
       "      <td>5.000000e+00</td>\n",
       "      <td>2.007000e+03</td>\n",
       "      <td>4.185457e+01</td>\n",
       "      <td>-8.766638e+01</td>\n",
       "      <td>7.000000e+00</td>\n",
       "      <td>1.600000e+01</td>\n",
       "      <td>1.400000e+01</td>\n",
       "    </tr>\n",
       "    <tr>\n",
       "      <th>75%</th>\n",
       "      <td>9.000000e+00</td>\n",
       "      <td>2.011000e+03</td>\n",
       "      <td>4.190696e+01</td>\n",
       "      <td>-8.762854e+01</td>\n",
       "      <td>9.000000e+00</td>\n",
       "      <td>2.300000e+01</td>\n",
       "      <td>1.900000e+01</td>\n",
       "    </tr>\n",
       "    <tr>\n",
       "      <th>max</th>\n",
       "      <td>3.500000e+01</td>\n",
       "      <td>2.017000e+03</td>\n",
       "      <td>4.216161e+01</td>\n",
       "      <td>8.835251e+01</td>\n",
       "      <td>1.200000e+01</td>\n",
       "      <td>3.100000e+01</td>\n",
       "      <td>2.300000e+01</td>\n",
       "    </tr>\n",
       "  </tbody>\n",
       "</table>\n",
       "</div>"
      ],
      "text/plain": [
       "       Primary Type          Year      Latitude     Longitude         Month  \\\n",
       "count  4.920223e+06  4.920223e+06  4.920223e+06  4.920223e+06  4.920223e+06   \n",
       "mean   6.058651e+00  2.007575e+03  4.184176e+01 -8.767183e+01  6.562743e+00   \n",
       "std    3.959265e+00  4.438774e+00  9.925630e-02  1.510193e-01  3.336879e+00   \n",
       "min    1.000000e+00  2.001000e+03  0.000000e+00 -9.168657e+01  1.000000e+00   \n",
       "25%    4.000000e+00  2.004000e+03  4.176888e+01 -8.771396e+01  4.000000e+00   \n",
       "50%    5.000000e+00  2.007000e+03  4.185457e+01 -8.766638e+01  7.000000e+00   \n",
       "75%    9.000000e+00  2.011000e+03  4.190696e+01 -8.762854e+01  9.000000e+00   \n",
       "max    3.500000e+01  2.017000e+03  4.216161e+01  8.835251e+01  1.200000e+01   \n",
       "\n",
       "                Day          Hour  \n",
       "count  4.920223e+06  4.920223e+06  \n",
       "mean   1.565272e+01  1.322758e+01  \n",
       "std    8.822629e+00  6.751369e+00  \n",
       "min    1.000000e+00  0.000000e+00  \n",
       "25%    8.000000e+00  9.000000e+00  \n",
       "50%    1.600000e+01  1.400000e+01  \n",
       "75%    2.300000e+01  1.900000e+01  \n",
       "max    3.100000e+01  2.300000e+01  "
      ]
     },
     "execution_count": 18,
     "metadata": {},
     "output_type": "execute_result"
    }
   ],
   "source": [
    "dfTrain.describe()"
   ]
  },
  {
   "cell_type": "code",
   "execution_count": 19,
   "metadata": {
    "collapsed": false,
    "scrolled": true
   },
   "outputs": [
    {
     "data": {
      "text/html": [
       "<div>\n",
       "<table border=\"1\" class=\"dataframe\">\n",
       "  <thead>\n",
       "    <tr style=\"text-align: right;\">\n",
       "      <th></th>\n",
       "      <th>Primary Type</th>\n",
       "      <th>Arrest</th>\n",
       "      <th>Domestic</th>\n",
       "      <th>Year</th>\n",
       "      <th>Latitude</th>\n",
       "      <th>Longitude</th>\n",
       "      <th>Month</th>\n",
       "      <th>Day</th>\n",
       "      <th>Hour</th>\n",
       "    </tr>\n",
       "  </thead>\n",
       "  <tbody>\n",
       "    <tr>\n",
       "      <th>0</th>\n",
       "      <td>1</td>\n",
       "      <td>True</td>\n",
       "      <td>False</td>\n",
       "      <td>2005</td>\n",
       "      <td>41.751375</td>\n",
       "      <td>-87.558951</td>\n",
       "      <td>1</td>\n",
       "      <td>1</td>\n",
       "      <td>21</td>\n",
       "    </tr>\n",
       "    <tr>\n",
       "      <th>1</th>\n",
       "      <td>6</td>\n",
       "      <td>True</td>\n",
       "      <td>False</td>\n",
       "      <td>2001</td>\n",
       "      <td>41.941894</td>\n",
       "      <td>-87.650504</td>\n",
       "      <td>5</td>\n",
       "      <td>14</td>\n",
       "      <td>0</td>\n",
       "    </tr>\n",
       "    <tr>\n",
       "      <th>2</th>\n",
       "      <td>1</td>\n",
       "      <td>False</td>\n",
       "      <td>False</td>\n",
       "      <td>2014</td>\n",
       "      <td>41.794929</td>\n",
       "      <td>-87.673112</td>\n",
       "      <td>9</td>\n",
       "      <td>20</td>\n",
       "      <td>11</td>\n",
       "    </tr>\n",
       "    <tr>\n",
       "      <th>3</th>\n",
       "      <td>14</td>\n",
       "      <td>False</td>\n",
       "      <td>False</td>\n",
       "      <td>2008</td>\n",
       "      <td>41.889974</td>\n",
       "      <td>-87.634637</td>\n",
       "      <td>6</td>\n",
       "      <td>13</td>\n",
       "      <td>2</td>\n",
       "    </tr>\n",
       "    <tr>\n",
       "      <th>4</th>\n",
       "      <td>5</td>\n",
       "      <td>True</td>\n",
       "      <td>False</td>\n",
       "      <td>2006</td>\n",
       "      <td>41.866389</td>\n",
       "      <td>-87.707277</td>\n",
       "      <td>12</td>\n",
       "      <td>7</td>\n",
       "      <td>17</td>\n",
       "    </tr>\n",
       "  </tbody>\n",
       "</table>\n",
       "</div>"
      ],
      "text/plain": [
       "   Primary Type Arrest Domestic  Year   Latitude  Longitude  Month  Day  Hour\n",
       "0             1   True    False  2005  41.751375 -87.558951      1    1    21\n",
       "1             6   True    False  2001  41.941894 -87.650504      5   14     0\n",
       "2             1  False    False  2014  41.794929 -87.673112      9   20    11\n",
       "3            14  False    False  2008  41.889974 -87.634637      6   13     2\n",
       "4             5   True    False  2006  41.866389 -87.707277     12    7    17"
      ]
     },
     "execution_count": 19,
     "metadata": {},
     "output_type": "execute_result"
    }
   ],
   "source": [
    "dfTrain.head()"
   ]
  },
  {
   "cell_type": "markdown",
   "metadata": {},
   "source": [
    "# MAPPING"
   ]
  },
  {
   "cell_type": "markdown",
   "metadata": {},
   "source": [
    "nous allons dans cette partie mapper nos points nur une carte (pour obtenire une carte de chaleur)\n",
    "pour cela, nous alons utiliser une librairie nomée \"gmplot\" qui va placer nos point au dessus de google maps :\n",
    "https://pypi.python.org/pypi/gmplot/1.1.1\n",
    "\n",
    "nous utilisons seulement 1 000 000 de points aleatoires pour des questions de performance (temps d'ouverture du fichier html trop long)"
   ]
  },
  {
   "cell_type": "markdown",
   "metadata": {},
   "source": [
    "### toutes les années confondus"
   ]
  },
  {
   "cell_type": "code",
   "execution_count": 20,
   "metadata": {
    "collapsed": false
   },
   "outputs": [],
   "source": [
    "import sklearn\n",
    "dfMap = sklearn.utils.shuffle(dfTrain)\n",
    "dfMap = dfMap[:1000000]\n",
    "\n",
    "gmap = gmplot.GoogleMapPlotter(41.862077, -87.701201, 12)\n",
    "latitudes = dfMap[pd.notnull(dfMap['Latitude'])]['Latitude'].values\n",
    "longitudes = dfMap[pd.notnull(dfMap['Longitude'])]['Longitude'].values\n",
    "gmap.heatmap(latitudes, longitudes)\n",
    "gmap.draw(\"mymapAll.html\")"
   ]
  },
  {
   "cell_type": "markdown",
   "metadata": {},
   "source": [
    "### 2002"
   ]
  },
  {
   "cell_type": "code",
   "execution_count": 21,
   "metadata": {
    "collapsed": false
   },
   "outputs": [],
   "source": [
    "\n",
    "dfMap2 = sklearn.utils.shuffle(dfTrain[dfTrain.Year == 2002])\n",
    "dfMap2 = dfMap2[:1000000]\n",
    "\n",
    "gmap = gmplot.GoogleMapPlotter(41.862077, -87.701201, 12)\n",
    "latitudes = dfMap2[pd.notnull(dfMap2['Latitude'])]['Latitude'].values\n",
    "longitudes = dfMap2[pd.notnull(dfMap2['Longitude'])]['Longitude'].values\n",
    "gmap.heatmap(latitudes, longitudes)\n",
    "gmap.draw(\"mymap2002.html\")"
   ]
  },
  {
   "cell_type": "markdown",
   "metadata": {},
   "source": [
    "### 2015"
   ]
  },
  {
   "cell_type": "code",
   "execution_count": 23,
   "metadata": {
    "collapsed": false
   },
   "outputs": [],
   "source": [
    "\n",
    "dfMap15 = sklearn.utils.shuffle(dfTrain[dfTrain.Year == 2015])\n",
    "dfMap15 = dfMap15[:1000000]\n",
    "\n",
    "gmap = gmplot.GoogleMapPlotter(41.862077, -87.701201, 12)\n",
    "latitudes = dfMap15[pd.notnull(dfMap15['Latitude'])]['Latitude'].values\n",
    "longitudes = dfMap15[pd.notnull(dfMap15['Longitude'])]['Longitude'].values\n",
    "gmap.heatmap(latitudes, longitudes)\n",
    "gmap.draw(\"mymap2015.html\")"
   ]
  },
  {
   "cell_type": "markdown",
   "metadata": {},
   "source": [
    "analysons maintenant le nombre de crymes par années"
   ]
  },
  {
   "cell_type": "code",
   "execution_count": 24,
   "metadata": {
    "collapsed": false,
    "scrolled": true
   },
   "outputs": [
    {
     "data": {
      "text/html": [
       "<div>\n",
       "<table border=\"1\" class=\"dataframe\">\n",
       "  <thead>\n",
       "    <tr style=\"text-align: right;\">\n",
       "      <th></th>\n",
       "      <th>Year</th>\n",
       "      <th>Count</th>\n",
       "    </tr>\n",
       "  </thead>\n",
       "  <tbody>\n",
       "    <tr>\n",
       "      <th>0</th>\n",
       "      <td>2001</td>\n",
       "      <td>384706</td>\n",
       "    </tr>\n",
       "    <tr>\n",
       "      <th>1</th>\n",
       "      <td>2002</td>\n",
       "      <td>375244</td>\n",
       "    </tr>\n",
       "    <tr>\n",
       "      <th>2</th>\n",
       "      <td>2003</td>\n",
       "      <td>376605</td>\n",
       "    </tr>\n",
       "    <tr>\n",
       "      <th>3</th>\n",
       "      <td>2004</td>\n",
       "      <td>372885</td>\n",
       "    </tr>\n",
       "    <tr>\n",
       "      <th>4</th>\n",
       "      <td>2005</td>\n",
       "      <td>359587</td>\n",
       "    </tr>\n",
       "    <tr>\n",
       "      <th>5</th>\n",
       "      <td>2006</td>\n",
       "      <td>355492</td>\n",
       "    </tr>\n",
       "    <tr>\n",
       "      <th>6</th>\n",
       "      <td>2007</td>\n",
       "      <td>347066</td>\n",
       "    </tr>\n",
       "    <tr>\n",
       "      <th>7</th>\n",
       "      <td>2008</td>\n",
       "      <td>334809</td>\n",
       "    </tr>\n",
       "    <tr>\n",
       "      <th>8</th>\n",
       "      <td>2009</td>\n",
       "      <td>307586</td>\n",
       "    </tr>\n",
       "    <tr>\n",
       "      <th>9</th>\n",
       "      <td>2010</td>\n",
       "      <td>293640</td>\n",
       "    </tr>\n",
       "    <tr>\n",
       "      <th>10</th>\n",
       "      <td>2011</td>\n",
       "      <td>279619</td>\n",
       "    </tr>\n",
       "    <tr>\n",
       "      <th>11</th>\n",
       "      <td>2012</td>\n",
       "      <td>267571</td>\n",
       "    </tr>\n",
       "    <tr>\n",
       "      <th>12</th>\n",
       "      <td>2013</td>\n",
       "      <td>242315</td>\n",
       "    </tr>\n",
       "    <tr>\n",
       "      <th>13</th>\n",
       "      <td>2014</td>\n",
       "      <td>215133</td>\n",
       "    </tr>\n",
       "    <tr>\n",
       "      <th>14</th>\n",
       "      <td>2015</td>\n",
       "      <td>207112</td>\n",
       "    </tr>\n",
       "    <tr>\n",
       "      <th>15</th>\n",
       "      <td>2016</td>\n",
       "      <td>200835</td>\n",
       "    </tr>\n",
       "    <tr>\n",
       "      <th>16</th>\n",
       "      <td>2017</td>\n",
       "      <td>18</td>\n",
       "    </tr>\n",
       "  </tbody>\n",
       "</table>\n",
       "</div>"
      ],
      "text/plain": [
       "    Year   Count\n",
       "0   2001  384706\n",
       "1   2002  375244\n",
       "2   2003  376605\n",
       "3   2004  372885\n",
       "4   2005  359587\n",
       "5   2006  355492\n",
       "6   2007  347066\n",
       "7   2008  334809\n",
       "8   2009  307586\n",
       "9   2010  293640\n",
       "10  2011  279619\n",
       "11  2012  267571\n",
       "12  2013  242315\n",
       "13  2014  215133\n",
       "14  2015  207112\n",
       "15  2016  200835\n",
       "16  2017      18"
      ]
     },
     "execution_count": 24,
     "metadata": {},
     "output_type": "execute_result"
    }
   ],
   "source": [
    "by_year=dfTrain.groupby(\"Year\").size().to_frame().reset_index().rename(columns={0:\"Count\"})\n",
    "by_year"
   ]
  },
  {
   "cell_type": "code",
   "execution_count": 49,
   "metadata": {
    "collapsed": false,
    "scrolled": true
   },
   "outputs": [
    {
     "data": {
      "image/png": "[encoded data removed]",
      "text/plain": [
       "<matplotlib.figure.Figure at 0x24d2639a828>"
      ]
     },
     "metadata": {},
     "output_type": "display_data"
    },
    {
     "data": {
      "text/plain": [
       "array([[ 180295.50441176]])"
      ]
     },
     "execution_count": 49,
     "metadata": {},
     "output_type": "execute_result"
    }
   ],
   "source": [
    "x = by_year.Year.values.reshape(len(by_year.Count.values),1)\n",
    "y = by_year.Count.values.reshape(len(by_year.Count.values),1)\n",
    "\n",
    "x = x.reshape(len(x),1)\n",
    "y = y.reshape(len(y),1)\n",
    "\n",
    "x = np.delete(x, len(x)-1, 0)\n",
    "y = np.delete(y, len(y)-1, 0)\n",
    "\n",
    "plt.scatter(x,y)\n",
    "\n",
    "regr = linear_model.LinearRegression()\n",
    "regr.fit(x,y)\n",
    "\n",
    "x_test = np.linspace(np.min(x), np.max(x), 100)\n",
    "\n",
    "plt.plot(x_test, regr.predict(x_test[:,np.newaxis]), color='blue', linewidth=3)\n",
    "\n",
    "plt.show()\n",
    "\n",
    "regr.predict(2018)\n"
   ]
  },
  {
   "cell_type": "markdown",
   "metadata": {},
   "source": [
    "immediatement, il est claire que le nombre de crime est en diminution pour chaque année.\n",
    "grace a la regression lineaire, nous estimons le nombre de crimes pour 2018 à 180296, le resultat semble coherent"
   ]
  },
  {
   "cell_type": "code",
   "execution_count": 50,
   "metadata": {
    "collapsed": false,
    "scrolled": true
   },
   "outputs": [
    {
     "data": {
      "image/png": "[encoded data removed]",
      "text/plain": [
       "<matplotlib.figure.Figure at 0x24d2647d160>"
      ]
     },
     "metadata": {},
     "output_type": "display_data"
    }
   ],
   "source": [
    "dfTrain['Year'].hist(bins = 16)\n",
    "plb.show()"
   ]
  },
  {
   "cell_type": "markdown",
   "metadata": {},
   "source": [
    "### analyse des types"
   ]
  },
  {
   "cell_type": "code",
   "execution_count": 46,
   "metadata": {
    "collapsed": false,
    "scrolled": false
   },
   "outputs": [
    {
     "data": {
      "image/png": "[encoded data removed]",
      "text/plain": [
       "<matplotlib.figure.Figure at 0x24d265c36d8>"
      ]
     },
     "metadata": {},
     "output_type": "display_data"
    }
   ],
   "source": [
    "dfTrain['Primary Type'].hist(bins = 36)\n",
    "plb.show()"
   ]
  },
  {
   "cell_type": "markdown",
   "metadata": {
    "collapsed": true
   },
   "source": [
    "{\n",
    "\t'OTHER OFFENSE': 1,\n",
    "\t'NARCOTICS': 2,\n",
    "\t'ASSAULT': 3,\n",
    "\t'BATTERY': 4,\n",
    "\t'THEFT': 5,\n",
    "\t'CRIMINAL TRESPASS': 6,\n",
    "\t'MOTOR VEHICLE THEFT': 7,\n",
    "\t'ROBBERY': 8,\n",
    "\t'DECEPTIVE PRACTICE': 9,\n",
    "\t'CRIMINAL DAMAGE': 10,\n",
    "\t'BURGLARY': 11,\n",
    "\t'INTIMIDATION': 12,\n",
    "\t'PROSTITUTION': 13,\n",
    "\t'SEX OFFENSE': 14,\n",
    "\t'PUBLIC PEACE VIOLATION': 15,\n",
    "\t'CRIM SEXUAL ASSAULT': 16,\n",
    "\t'WEAPONS VIOLATION': 17,\n",
    "\t'HOMICIDE': 18,\n",
    "\t'INTERFERENCE WITH PUBLIC OFFICER': 19,\n",
    "\t'OFFENSE INVOLVING CHILDREN': 20,\n",
    "\t'LIQUOR LAW VIOLATION': 21,\n",
    "\t'KIDNAPPING': 22,\n",
    "\t'STALKING': 23,\n",
    "\t'GAMBLING': 24,\n",
    "\t'ARSON': 26,\n",
    "\t'PUBLIC INDECENCY': 27,\n",
    "\t'OTHER NARCOTIC VIOLATION': 28,\n",
    "\t'OBSCENITY': 29,\n",
    "\t'RITUALISM': 30,\n",
    "\t'NON-CRIMINAL': 31,\n",
    "\t'HUMAN TRAFFICKING': 32,\n",
    "\t'CONCEALED CARRY LICENSE VIOLATION': 33,\n",
    "\t'NON - CRIMINAL': 34,\n",
    "\t'NON-CRIMINAL (SUBJECT SPECIFIED)': 35,\n",
    "\t'DOMESTIC VIOLENCE': 36\n",
    "}"
   ]
  },
  {
   "cell_type": "markdown",
   "metadata": {},
   "source": [
    "on remarque que la grande majoritée des crimes font partie des 4 categories suivante (dans l'ordre de representation):\n",
    "- THEFT\n",
    "- BATTERY\n",
    "- CRIMINAL DAMAGE\n",
    "- NARCOTICS"
   ]
  },
  {
   "cell_type": "markdown",
   "metadata": {},
   "source": [
    "la partie suivante fonctionne seulement si la collone 'Location Description' n'a pas ete supprimer pendant le nettoyage"
   ]
  },
  {
   "cell_type": "code",
   "execution_count": null,
   "metadata": {
    "collapsed": true
   },
   "outputs": [],
   "source": [
    "dfTrain.groupby('Location Description').size().sort_values(ascending=False).head(10)"
   ]
  },
  {
   "cell_type": "code",
   "execution_count": null,
   "metadata": {
    "collapsed": false,
    "scrolled": true
   },
   "outputs": [],
   "source": [
    "dfTrain[dfTrain['Location Description'] == 'STREET'].Year.hist(bins = 16)\n",
    "plb.show()"
   ]
  },
  {
   "cell_type": "markdown",
   "metadata": {},
   "source": [
    "## les horaires des crimes"
   ]
  },
  {
   "cell_type": "code",
   "execution_count": 51,
   "metadata": {
    "collapsed": false,
    "scrolled": true
   },
   "outputs": [
    {
     "data": {
      "image/png": "[encoded data removed]",
      "text/plain": [
       "<matplotlib.figure.Figure at 0x24d26511908>"
      ]
     },
     "metadata": {},
     "output_type": "display_data"
    }
   ],
   "source": [
    "dfTrain.Hour.hist(bins = 24)\n",
    "plb.show()"
   ]
  },
  {
   "cell_type": "markdown",
   "metadata": {},
   "source": [
    "sur ce diagramme, nous pouvons voir que à 0 et 12 heure il y a des piques. il doit sagire de la valeur par default pour les crimes realiser le matin ou l'apres-midi quand elle ne sont pas renseigné"
   ]
  },
  {
   "cell_type": "markdown",
   "metadata": {},
   "source": [
    "je conseil de visiter chicago entre 5 et 6 heure ;)"
   ]
  },
  {
   "cell_type": "markdown",
   "metadata": {},
   "source": [
    "## nombre de crime pour chaque mois et chaque années à une heure precise"
   ]
  },
  {
   "cell_type": "code",
   "execution_count": 58,
   "metadata": {
    "collapsed": false,
    "scrolled": false
   },
   "outputs": [
    {
     "data": {
      "text/plain": [
       "Year  Month\n",
       "2001  1        1542\n",
       "      2        1505\n",
       "      3        1735\n",
       "      4        1643\n",
       "      5        1703\n",
       "      6        1663\n",
       "      7        1649\n",
       "      8        1767\n",
       "      9        1644\n",
       "      10       1738\n",
       "      11       1489\n",
       "      12       1476\n",
       "2002  1        1478\n",
       "      2        1251\n",
       "      3        1522\n",
       "      4        1494\n",
       "      5        1652\n",
       "      6        1561\n",
       "      7        1667\n",
       "      8        1637\n",
       "      9        1568\n",
       "      10       1569\n",
       "      11       1362\n",
       "      12       1487\n",
       "2003  1        1443\n",
       "      2        1305\n",
       "      3        1502\n",
       "      4        1592\n",
       "      5        1672\n",
       "      6        1576\n",
       "dtype: int64"
      ]
     },
     "execution_count": 58,
     "metadata": {},
     "output_type": "execute_result"
    }
   ],
   "source": [
    "#dfTheft = dfTrain[dfTrain['Primary Type'] == 5]\n",
    "#dfmaxTime = dfTrain.groupby(['Year','Month']).apply(lambda subf: subf.groupby(['Day']).apply(lambda subf2: len(subf2)))\n",
    "heure = 16\n",
    "dfmaxTime = dfTrain[(dfTrain.Hour == heure) & (dfTrain.Year != 2017)].groupby(['Year','Month']).apply(lambda subf: len(subf))\n",
    "dfmaxTime.head(30)"
   ]
  },
  {
   "cell_type": "markdown",
   "metadata": {},
   "source": [
    "realison une graphique pour ces données et une regression lineaire"
   ]
  },
  {
   "cell_type": "code",
   "execution_count": 59,
   "metadata": {
    "collapsed": false,
    "scrolled": true
   },
   "outputs": [
    {
     "data": {
      "image/png": "[encoded data removed]",
      "text/plain": [
       "<matplotlib.figure.Figure at 0x24d14797e48>"
      ]
     },
     "metadata": {},
     "output_type": "display_data"
    }
   ],
   "source": [
    "\n",
    "x = np.arange(0,len(dfmaxTime))\n",
    "\n",
    "y = dfmaxTime\n",
    "\n",
    "x = x.reshape(len(x),1)\n",
    "\n",
    "\n",
    "plt.scatter(x,y)\n",
    "\n",
    "regr = linear_model.LinearRegression()\n",
    "regr.fit(x,y)\n",
    "\n",
    "x_test = np.linspace(np.min(x), np.max(x), 100)\n",
    "\n",
    "plt.plot(x_test, regr.predict(x_test[:,np.newaxis]), color='blue', linewidth=3)\n",
    "\n",
    "plt.show()\n",
    "\n",
    "\n"
   ]
  },
  {
   "cell_type": "markdown",
   "metadata": {},
   "source": [
    "regardons cette fois ci l'evolution sur les mois"
   ]
  },
  {
   "cell_type": "code",
   "execution_count": 60,
   "metadata": {
    "collapsed": false,
    "scrolled": true
   },
   "outputs": [
    {
     "data": {
      "image/png": "[encoded data removed]",
      "text/plain": [
       "<matplotlib.figure.Figure at 0x24d2643d1d0>"
      ]
     },
     "metadata": {},
     "output_type": "display_data"
    }
   ],
   "source": [
    "dfTrain.Month.hist(bins = 12)\n",
    "plb.show()"
   ]
  },
  {
   "cell_type": "markdown",
   "metadata": {},
   "source": [
    "## nombre de crimes pour chaque mois de chaque années"
   ]
  },
  {
   "cell_type": "code",
   "execution_count": 61,
   "metadata": {
    "collapsed": false,
    "scrolled": true
   },
   "outputs": [
    {
     "data": {
      "text/plain": [
       "Year  Month\n",
       "2001  7        35423\n",
       "2002  7        35871\n",
       "2003  7        34355\n",
       "2004  7        34427\n",
       "2005  7        33261\n",
       "2006  7        33003\n",
       "2007  7        32561\n",
       "2008  7        31845\n",
       "2009  7        28008\n",
       "2010  7        26460\n",
       "2011  7        26400\n",
       "2012  7        25602\n",
       "2013  7        22689\n",
       "2014  7        20810\n",
       "2015  7        19136\n",
       "2016  7        18791\n",
       "dtype: int64"
      ]
     },
     "execution_count": 61,
     "metadata": {},
     "output_type": "execute_result"
    }
   ],
   "source": [
    "#dfTheft = dfTrain[dfTrain['Primary Type'] == 5]\n",
    "#dfmaxTime = dfTrain.groupby(['Year','Month']).apply(lambda subf: subf.groupby(['Day']).apply(lambda subf2: len(subf2)))\n",
    "dfmaxTime = dfTrain[(dfTrain.Month == 7) & (dfTrain.Year != 2017)].groupby(['Year','Month']).apply(lambda subf: len(subf))\n",
    "dfmaxTime.head(30)\n"
   ]
  },
  {
   "cell_type": "code",
   "execution_count": 62,
   "metadata": {
    "collapsed": false
   },
   "outputs": [
    {
     "data": {
      "image/png": "[encoded data removed]",
      "text/plain": [
       "<matplotlib.figure.Figure at 0x24d147a0518>"
      ]
     },
     "metadata": {},
     "output_type": "display_data"
    },
    {
     "data": {
      "text/plain": [
       "array([ 17063.38970588])"
      ]
     },
     "execution_count": 62,
     "metadata": {},
     "output_type": "execute_result"
    }
   ],
   "source": [
    "\n",
    "x = np.arange(2001,2001+len(dfmaxTime))\n",
    "\n",
    "y = dfmaxTime\n",
    "\n",
    "x = x.reshape(len(x),1)\n",
    "\n",
    "\n",
    "plt.scatter(x,y)\n",
    "\n",
    "regr = linear_model.LinearRegression()\n",
    "regr.fit(x,y)\n",
    "\n",
    "x_test = np.linspace(np.min(x), np.max(x), 100)\n",
    "\n",
    "plt.plot(x_test, regr.predict(x_test[:,np.newaxis]), color='blue', linewidth=3)\n",
    "\n",
    "plt.show()\n",
    "\n",
    "regr.predict(2018)\n",
    "\n"
   ]
  },
  {
   "cell_type": "code",
   "execution_count": null,
   "metadata": {
    "collapsed": true
   },
   "outputs": [],
   "source": []
  }
 ],
 "metadata": {
  "anaconda-cloud": {},
  "kernelspec": {
   "display_name": "Python [conda root]",
   "language": "python",
   "name": "conda-root-py"
  },
  "language_info": {
   "codemirror_mode": {
    "name": "ipython",
    "version": 3
   },
   "file_extension": ".py",
   "mimetype": "text/x-python",
   "name": "python",
   "nbconvert_exporter": "python",
   "pygments_lexer": "ipython3",
   "version": "3.5.2"
  }
 },
 "nbformat": 4,
 "nbformat_minor": 1
}
